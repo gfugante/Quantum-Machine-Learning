{
 "cells": [
  {
   "cell_type": "code",
   "execution_count": 9,
   "metadata": {
    "ExecuteTime": {
     "end_time": "2019-02-01T20:28:41.436161Z",
     "start_time": "2019-02-01T20:28:40.764021Z"
    }
   },
   "outputs": [
    {
     "name": "stdout",
     "output_type": "stream",
     "text": [
      "Available frameworks:\n",
      "Qiskit\n",
      "D-Wave Ocean\n"
     ]
    }
   ],
   "source": [
    "%run -i \"assignment_helper.py\"\n",
    "%matplotlib inline"
   ]
  },
  {
   "cell_type": "markdown",
   "metadata": {},
   "source": [
    "# Mapping clustering to discrete optimization\n",
    "\n",
    "We will have {*xi*}, *i=1..N* points lying in two distant regions:"
   ]
  },
  {
   "cell_type": "code",
   "execution_count": 2,
   "metadata": {
    "ExecuteTime": {
     "end_time": "2019-02-01T20:48:40.643798Z",
     "start_time": "2019-02-01T20:48:40.594636Z"
    }
   },
   "outputs": [
    {
     "data": {
      "text/plain": [
       "<matplotlib.collections.PathCollection at 0x141a845b0>"
      ]
     },
     "execution_count": 2,
     "metadata": {},
     "output_type": "execute_result"
    },
    {
     "data": {
      "image/png": "[encoded data removed]",
      "text/plain": [
       "<Figure size 432x288 with 1 Axes>"
      ]
     },
     "metadata": {
      "needs_background": "light"
     },
     "output_type": "display_data"
    }
   ],
   "source": [
    "import matplotlib.pyplot as plt\n",
    "np.set_printoptions(precision=3, suppress=True)\n",
    "np.random.seed(0)\n",
    "\n",
    "# Generating the data\n",
    "c1 = np.random.rand(2, 2)/5\n",
    "c2 = (-1.6, 1.5) + np.random.rand(2, 2)/5\n",
    "data = np.concatenate((c1, c2))\n",
    "\n",
    "fig, ax = plt.subplots()\n",
    "ax.scatter(data[:, 0], data[:, 1])"
   ]
  },
  {
   "cell_type": "markdown",
   "metadata": {},
   "source": [
    "**Exercise 1** (3 points). The unsupervised task is identify this structure. The challenge is that if we have a high number of points compared to the number of qubits and their connections, we won't be able to solve the problem. So if we blindly follow the idea of mapping the problem to max-cut using the Eucledian distance and then solve it by some quantum optimization method, we would run out of qubit connections for this problem. We can, however, choose to be clever about how we calculate the distances classically. This is a common trick: since we are doing hybrid classical-quantum algorithms anyway, we might as well do the classical parts wisely.\n",
    "\n",
    "In this case, we might rely on some form of [exploratory data analysis](https://en.wikipedia.org/wiki/Exploratory_data_analysis) to get a sense of the distances in the dataset. This is an easy case, since we just plotted the two-dimensional data, and we see that the density within a blob is high. You can make the task easier by thresholding the distances. Use any distance function you wish (even the Euclidean distance will do) and set distances to zero that are below a threshold you calculate. The threshold should be such that all of the distances within a blob will be set to zero. Store the symmetrix distance matrix in a two-dimensional numpy array called `w`."
   ]
  },
  {
   "cell_type": "code",
   "execution_count": 3,
   "metadata": {
    "ExecuteTime": {
     "end_time": "2019-02-01T20:27:38.349707Z",
     "start_time": "2019-02-01T20:27:38.341177Z"
    }
   },
   "outputs": [
    {
     "name": "stdout",
     "output_type": "stream",
     "text": [
      "[[0.    0.    2.202 2.234]\n",
      " [0.    0.    2.233 2.265]\n",
      " [2.202 2.233 0.    0.   ]\n",
      " [2.234 2.265 0.    0.   ]]\n"
     ]
    }
   ],
   "source": [
    "import itertools\n",
    "n_instances = data.shape[0]\n",
    "###\n",
    "### YOUR CODE HERE\n",
    "###\n",
    "\n",
    "w = np.zeros((n_instances, n_instances))\n",
    "\n",
    "for i in range(n_instances):\n",
    "    for j in range(n_instances):\n",
    "        \n",
    "        distance = np.linalg.norm(data[i] - data[j])\n",
    "\n",
    "        if (distance > 0.1):\n",
    "            w[i][j] = distance\n",
    "        \n",
    "        \n",
    "        \n",
    "        \n",
    "print(w)\n",
    "\n",
    "\n"
   ]
  },
  {
   "cell_type": "code",
   "execution_count": 4,
   "metadata": {
    "ExecuteTime": {
     "end_time": "2019-02-01T20:28:25.104088Z",
     "start_time": "2019-02-01T20:28:25.099798Z"
    },
    "deletable": false,
    "editable": false,
    "nbgrader": {
     "grade": true,
     "grade_id": "exercise1",
     "locked": true,
     "points": "3",
     "solution": false
    }
   },
   "outputs": [],
   "source": [
    "labels = np.array([0, 0, 1, 1])\n",
    "assert np.alltrue(w == w.T)\n",
    "assert np.alltrue(w >= 0)\n",
    "assert (w[labels==0][:, labels==0]==0).sum() == 4\n",
    "assert (w[labels==1][:, labels==1]==0).sum() == 4"
   ]
  },
  {
   "cell_type": "markdown",
   "metadata": {},
   "source": [
    "# Solving the max-cut problem by QAOA\n",
    "\n",
    "**Exercise 2** (2 points). From here, it is rather formulaic to create the max-cut as an Ising Hamiltonian and solve either by annealing or by some variational circuit like QAOA. Set up the QAOA problem in your chosen framework and an optimization function. Import all necessary functions you need. Call the object `qaoa`. We set the `p` parameter of the QAOA to 1."
   ]
  },
  {
   "cell_type": "code",
   "execution_count": 5,
   "metadata": {
    "ExecuteTime": {
     "end_time": "2019-02-01T21:29:46.241563Z",
     "start_time": "2019-02-01T21:29:46.224360Z"
    }
   },
   "outputs": [
    {
     "name": "stdout",
     "output_type": "stream",
     "text": [
      "<class 'qiskit.aqua.operators.legacy.weighted_pauli_operator.WeightedPauliOperator'>\n"
     ]
    },
    {
     "name": "stderr",
     "output_type": "stream",
     "text": [
      "/Users/gianlucafugante/anaconda3/lib/python3.8/site-packages/qiskit/optimization/__init__.py:92: DeprecationWarning: The package qiskit.optimization is deprecated. It was moved/refactored to qiskit_optimization (pip install qiskit-optimization). For more information see <https://github.com/Qiskit/qiskit-aqua/blob/main/README.md#migration-guide>\n",
      "  warn_package('optimization', 'qiskit_optimization', 'qiskit-optimization')\n",
      "/Users/gianlucafugante/anaconda3/lib/python3.8/site-packages/qiskit/optimization/applications/ising/max_cut.py:54: DeprecationWarning: The package qiskit.aqua.operators is deprecated. It was moved/refactored to qiskit.opflow (pip install qiskit-terra). For more information see <https://github.com/Qiskit/qiskit-aqua/blob/main/README.md#migration-guide>\n",
      "  return WeightedPauliOperator(paulis=pauli_list), shift\n",
      "/Users/gianlucafugante/anaconda3/lib/python3.8/site-packages/qiskit/aqua/components/optimizers/optimizer.py:49: DeprecationWarning: The package qiskit.aqua.components.optimizers is deprecated. It was moved/refactored to qiskit.algorithms.optimizers (pip install qiskit-terra). For more information see <https://github.com/Qiskit/qiskit-aqua/blob/main/README.md#migration-guide>\n",
      "  warn_package('aqua.components.optimizers',\n",
      "/Users/gianlucafugante/anaconda3/lib/python3.8/site-packages/qiskit/aqua/algorithms/vq_algorithm.py:70: DeprecationWarning: The class qiskit.aqua.algorithms.VQAlgorithm is deprecated. It was moved/refactored to qiskit.algorithms.VariationalAlgorithm (pip install qiskit-terra). For more information see <https://github.com/Qiskit/qiskit-aqua/blob/main/README.md#migration-guide>\n",
      "  warn_class('aqua.algorithms.VQAlgorithm',\n",
      "/Users/gianlucafugante/anaconda3/lib/python3.8/site-packages/qiskit/aqua/components/variational_forms/variational_form.py:48: DeprecationWarning: The package qiskit.aqua.components.variational_forms is deprecated. For more information see <https://github.com/Qiskit/qiskit-aqua/blob/main/README.md#migration-guide>\n",
      "  warn_package('aqua.components.variational_forms')\n",
      "/Users/gianlucafugante/anaconda3/lib/python3.8/site-packages/qiskit/visualization/text.py:659: RuntimeWarning: The parameter \"cregbundle\" was disabled, since an instruction needs to refer to individual classical wires\n",
      "  return \"\\n\".join(self.lines()).encode(self.encoding).decode(self.encoding)\n"
     ]
    },
    {
     "data": {
      "text/html": [
       "<pre style=\"word-wrap: normal;white-space: pre;background: #fff0;line-height: 1.1;font-family: &quot;Courier New&quot;,Courier,monospace\">     ┌─────────────┐\n",
       "q_0: ┤0            ├\n",
       "     │             │\n",
       "q_1: ┤1            ├\n",
       "     │             │\n",
       "q_2: ┤2            ├\n",
       "     │             │\n",
       "q_3: ┤3            ├\n",
       "     │  Pauli IZIZ │\n",
       "c_0: ╡0            ╞\n",
       "     │             │\n",
       "c_1: ╡1            ╞\n",
       "     │             │\n",
       "c_2: ╡2            ╞\n",
       "     │             │\n",
       "c_3: ╡3            ╞\n",
       "     └─────────────┘</pre>"
      ],
      "text/plain": [
       "     ┌─────────────┐\n",
       "q_0: ┤0            ├\n",
       "     │             │\n",
       "q_1: ┤1            ├\n",
       "     │             │\n",
       "q_2: ┤2            ├\n",
       "     │             │\n",
       "q_3: ┤3            ├\n",
       "     │  Pauli IZIZ │\n",
       "c_0: ╡0            ╞\n",
       "     │             │\n",
       "c_1: ╡1            ╞\n",
       "     │             │\n",
       "c_2: ╡2            ╞\n",
       "     │             │\n",
       "c_3: ╡3            ╞\n",
       "     └─────────────┘"
      ]
     },
     "execution_count": 5,
     "metadata": {},
     "output_type": "execute_result"
    }
   ],
   "source": [
    "p = 1\n",
    "###\n",
    "### YOUR CODE HERE\n",
    "###\n",
    "\n",
    "\n",
    "from qiskit.aqua.components.optimizers import COBYLA\n",
    "from qiskit.optimization.applications.ising import max_cut\n",
    "from qiskit.aqua.algorithms import QAOA\n",
    "qubit_operators, offset = max_cut.get_operator(w)\n",
    "optimizer = COBYLA()\n",
    "qaoa = QAOA(qubit_operators, optimizer, p)\n",
    "\n",
    "print(type(qubit_operators))\n",
    "circ = QuantumCircuit(4, 4)\n",
    "#circ.append(qubit_operators, [0, 1, 2, 3])\n",
    "#circ.draw('mpl')\n",
    "\n",
    "evaluation_circuits = qubit_operators.construct_evaluation_circuit(circ, False)\n",
    "\n",
    "evaluation_circuits[0].draw()"
   ]
  },
  {
   "cell_type": "markdown",
   "metadata": {},
   "source": [
    "Setting $p=1$ in the QAOA algorithm, we can initialize it with the max-cut problem."
   ]
  },
  {
   "cell_type": "code",
   "execution_count": 6,
   "metadata": {
    "ExecuteTime": {
     "end_time": "2019-02-01T21:17:37.687655Z",
     "start_time": "2019-02-01T21:17:37.680171Z"
    },
    "deletable": false,
    "editable": false,
    "nbgrader": {
     "grade": true,
     "grade_id": "exercise2",
     "locked": true,
     "points": "2",
     "solution": false
    }
   },
   "outputs": [],
   "source": [
    "if isinstance(qaoa, qiskit.aqua.algorithms.QAOA):\n",
    "    assert qaoa._operator.num_qubits == 4\n",
    "elif isinstance(qaoa, grove.pyqaoa.qaoa.QAOA):\n",
    "    assert len(qaoa.ref_ham) == 4\n",
    "    assert all([qaoa.ref_ham[i].terms[0].compact_str() == '(1+0j)*X{}'.format(i) for i in range(4)])\n",
    "    assert len(qaoa.cost_ham) == 12\n",
    "else:\n",
    "    raise ValueError(\"Unknown type for Hamiltonian!\")"
   ]
  },
  {
   "cell_type": "markdown",
   "metadata": {},
   "source": [
    "**Exercise 3** (2 points). Run the QAOA on a simulator. Store the outcome in an object called `result`. In the case of the Forest SDK, this will store the return value of the `run_and_measure` method of the QVM. In the case of Qiskit, it will be the return value of the `run` method of the `qaoa` object."
   ]
  },
  {
   "cell_type": "code",
   "execution_count": 7,
   "metadata": {
    "ExecuteTime": {
     "end_time": "2019-02-01T21:24:52.709677Z",
     "start_time": "2019-02-01T21:24:50.825360Z"
    }
   },
   "outputs": [
    {
     "name": "stderr",
     "output_type": "stream",
     "text": [
      "/Users/gianlucafugante/anaconda3/lib/python3.8/site-packages/qiskit/aqua/quantum_instance.py:135: DeprecationWarning: The class qiskit.aqua.QuantumInstance is deprecated. It was moved/refactored to qiskit.utils.QuantumInstance (pip install qiskit-terra). For more information see <https://github.com/Qiskit/qiskit-aqua/blob/main/README.md#migration-guide>\n",
      "  warn_class('aqua.QuantumInstance',\n",
      "/Users/gianlucafugante/anaconda3/lib/python3.8/site-packages/qiskit/aqua/algorithms/quantum_algorithm.py:46: DeprecationWarning: The variable qiskit.aqua.aqua_globals is deprecated. It was moved/refactored to qiskit.utils.algorithm_globals (pip install qiskit-terra). For more information see <https://github.com/Qiskit/qiskit-aqua/blob/main/README.md#migration-guide>\n",
      "  return aqua_globals.random\n"
     ]
    },
    {
     "name": "stdout",
     "output_type": "stream",
     "text": [
      "{'optimal_parameters': {ParameterVectorElement(θ[0]): -1.0549067972650499, ParameterVectorElement(θ[1]): 2.748810803381066}, 'optimal_point': array([-1.055,  2.749]), 'optimal_value': -2.231691283559714, 'optimizer_evals': 37, 'optimizer_time': 0.4473717212677002, 'eigenvalue': (-2.231691283559714+0j), 'eigenstate': array([-0.125-0.j   , -0.   +0.133j, -0.   +0.117j, -0.125+0.5j  ,\n",
      "       -0.   +0.133j,  0.125+0.25j ,  0.125+0.25j , -0.   +0.117j,\n",
      "       -0.   +0.117j,  0.125+0.25j ,  0.125+0.25j , -0.   +0.133j,\n",
      "       -0.125+0.5j  , -0.   +0.117j, -0.   +0.133j, -0.125-0.j   ]), 'cost_function_evals': 37}\n"
     ]
    }
   ],
   "source": [
    "###\n",
    "### YOUR CODE HERE\n",
    "###\n",
    "\n",
    "from qiskit.aqua import QuantumInstance\n",
    "backend = Aer.get_backend('statevector_simulator')\n",
    "quantum_instance = QuantumInstance(backend, shots=100)\n",
    "\n",
    "result = qaoa.run(quantum_instance)\n",
    "print(result)"
   ]
  },
  {
   "cell_type": "code",
   "execution_count": 8,
   "metadata": {
    "ExecuteTime": {
     "end_time": "2019-02-01T21:28:58.162057Z",
     "start_time": "2019-02-01T21:28:58.157118Z"
    },
    "deletable": false,
    "editable": false,
    "nbgrader": {
     "grade": true,
     "grade_id": "exercise3",
     "locked": true,
     "points": "2",
     "solution": false
    }
   },
   "outputs": [],
   "source": [
    "from qiskit.optimization.applications.ising.common import sample_most_likely\n",
    "ground_truth1 = [0, 0, 1, 1]\n",
    "ground_truth2 = [1, 1, 0, 0]\n",
    "if isinstance(result, list):\n",
    "    count = np.unique(result, return_counts=True, axis=0)\n",
    "    solution = count[0][np.argmax(count[1])]\n",
    "    assert abs(sum(solution == ground_truth1)-4) <= 1 or abs(sum(solution == ground_truth2)-4) <= 1\n",
    "else:\n",
    "    x = sample_most_likely(result['eigenstate'])\n",
    "    solution = max_cut.get_graph_solution(x)\n",
    "    assert abs(sum(solution == ground_truth1)-4) <= 1 or abs(sum(solution == ground_truth2)-4) <= 1"
   ]
  },
  {
   "cell_type": "code",
   "execution_count": null,
   "metadata": {},
   "outputs": [],
   "source": []
  }
 ],
 "metadata": {
  "kernelspec": {
   "display_name": "Python 3",
   "language": "python",
   "name": "python3"
  },
  "language_info": {
   "codemirror_mode": {
    "name": "ipython",
    "version": 3
   },
   "file_extension": ".py",
   "mimetype": "text/x-python",
   "name": "python",
   "nbconvert_exporter": "python",
   "pygments_lexer": "ipython3",
   "version": "3.8.8"
  },
  "varInspector": {
   "cols": {
    "lenName": 16,
    "lenType": 16,
    "lenVar": 40
   },
   "kernels_config": {
    "python": {
     "delete_cmd_postfix": "",
     "delete_cmd_prefix": "del ",
     "library": "var_list.py",
     "varRefreshCmd": "print(var_dic_list())"
    },
    "r": {
     "delete_cmd_postfix": ") ",
     "delete_cmd_prefix": "rm(",
     "library": "var_list.r",
     "varRefreshCmd": "cat(var_dic_list()) "
    }
   },
   "types_to_exclude": [
    "module",
    "function",
    "builtin_function_or_method",
    "instance",
    "_Feature"
   ],
   "window_display": false
  }
 },
 "nbformat": 4,
 "nbformat_minor": 2
}
