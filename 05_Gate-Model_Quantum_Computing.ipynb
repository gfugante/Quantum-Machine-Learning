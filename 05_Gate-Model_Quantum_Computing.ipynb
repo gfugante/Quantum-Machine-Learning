{
 "cells": [
  {
   "cell_type": "code",
   "execution_count": 9,
   "metadata": {},
   "outputs": [
    {
     "name": "stdout",
     "output_type": "stream",
     "text": [
      "Available frameworks:\n",
      "Qiskit\n",
      "D-Wave Ocean\n"
     ]
    }
   ],
   "source": [
    "%run -i \"assignment_helper.py\"\n",
    "%matplotlib inline"
   ]
  },
  {
   "cell_type": "markdown",
   "metadata": {},
   "source": [
    "# Defining circuits\n",
    "\n",
    "**Exercise 1** (2 points). Quantum computers typically initialize their qubit registers in the |0> state. This means that if there is any particular state we would like to work with, first we have to figure out how to create that state with a circuit. Some states are easier to prepare than others. If you are just given a random vector, say. $$\\begin{bmatrix}0.36\\\\  0.8704\\end{bmatrix}$$ it is not easy to figure out how to prepare it. In fact, the very purpose of quantum computing is to prepare a probability distribution of interest, that is, a state. So in some ways, generic state preparation is as hard as or equivalent to quantum computation. On the other hand, some states are easy to prepare; for instance, the state: $$\\frac{-|0\\rangle + |1\\rangle}{\\sqrt{2}}$$ Create a circuit in your preferred framework that prepares this state. The object should be called `circuit`."
   ]
  },
  {
   "cell_type": "code",
   "execution_count": 2,
   "metadata": {
    "ExecuteTime": {
     "end_time": "2018-11-19T20:07:24.314851Z",
     "start_time": "2018-11-19T20:07:22.576203Z"
    }
   },
   "outputs": [
    {
     "data": {
      "text/html": [
       "<pre style=\"word-wrap: normal;white-space: pre;background: #fff0;line-height: 1.1;font-family: &quot;Courier New&quot;,Courier,monospace\">      ┌───┐┌───┐┌───┐\n",
       "q0_0: ┤ H ├┤ Z ├┤ X ├\n",
       "      └───┘└───┘└───┘</pre>"
      ],
      "text/plain": [
       "      ┌───┐┌───┐┌───┐\n",
       "q0_0: ┤ H ├┤ Z ├┤ X ├\n",
       "      └───┘└───┘└───┘"
      ]
     },
     "execution_count": 2,
     "metadata": {},
     "output_type": "execute_result"
    }
   ],
   "source": [
    "###\n",
    "### YOUR CODE HERE\n",
    "###\n",
    "\n",
    "circuit = QuantumCircuit()\n",
    "qr = QuantumRegister(1)\n",
    "circuit.add_register(qr)\n",
    "\n",
    "circuit.h(qr[0])\n",
    "circuit.z(qr[0])\n",
    "circuit.x(qr[0])\n",
    "\n",
    "\n",
    "circuit.draw()"
   ]
  },
  {
   "cell_type": "code",
   "execution_count": 3,
   "metadata": {},
   "outputs": [
    {
     "data": {
      "text/plain": [
       "array([-0.70710678+8.65956056e-17j,  0.70710678+0.00000000e+00j])"
      ]
     },
     "execution_count": 3,
     "metadata": {},
     "output_type": "execute_result"
    }
   ],
   "source": [
    "get_amplitudes(circuit)"
   ]
  },
  {
   "cell_type": "code",
   "execution_count": 4,
   "metadata": {
    "deletable": false,
    "editable": false,
    "nbgrader": {
     "grade": true,
     "grade_id": "exercise1",
     "locked": true,
     "points": "2",
     "solution": false
    }
   },
   "outputs": [],
   "source": [
    "amplitudes = get_amplitudes(circuit)\n",
    "assert np.allclose(amplitudes, np.array([-1/np.sqrt(2), 1/np.sqrt(2)]))"
   ]
  },
  {
   "cell_type": "markdown",
   "metadata": {},
   "source": [
    "**Exercise 2** (2 points). We know that entanglement is an important resource for quantum computing, but so far we entangled only a pair of qubits. Create a circuit to prepare the state: $$\\frac{|000\\rangle + |111\\rangle}{\\sqrt{2}}$$which is a three-qubit entangled state. The circuit should be in an object called `circuit` with three quantum and three classical registers. If you use PyQuil, declare the classical registers in a variable called `ro`."
   ]
  },
  {
   "cell_type": "code",
   "execution_count": 5,
   "metadata": {
    "ExecuteTime": {
     "end_time": "2018-11-19T20:07:25.136336Z",
     "start_time": "2018-11-19T20:07:24.318756Z"
    }
   },
   "outputs": [
    {
     "data": {
      "text/html": [
       "<pre style=\"word-wrap: normal;white-space: pre;background: #fff0;line-height: 1.1;font-family: &quot;Courier New&quot;,Courier,monospace\">       ┌───┐          \n",
       "q17_0: ┤ H ├──■───────\n",
       "       └───┘┌─┴─┐     \n",
       "q17_1: ─────┤ X ├──■──\n",
       "            └───┘┌─┴─┐\n",
       "q17_2: ──────────┤ X ├\n",
       "                 └───┘\n",
       " c0: 3/═══════════════\n",
       "                      </pre>"
      ],
      "text/plain": [
       "       ┌───┐          \n",
       "q17_0: ┤ H ├──■───────\n",
       "       └───┘┌─┴─┐     \n",
       "q17_1: ─────┤ X ├──■──\n",
       "            └───┘┌─┴─┐\n",
       "q17_2: ──────────┤ X ├\n",
       "                 └───┘\n",
       " c0: 3/═══════════════\n",
       "                      "
      ]
     },
     "execution_count": 5,
     "metadata": {},
     "output_type": "execute_result"
    }
   ],
   "source": [
    "###\n",
    "### YOUR CODE HERE\n",
    "###\n",
    "\n",
    "circuit = QuantumCircuit()\n",
    "\n",
    "qr = QuantumRegister(3)\n",
    "cr = ClassicalRegister(3)\n",
    "\n",
    "circuit.add_register(qr)\n",
    "circuit.add_register(cr)\n",
    "\n",
    "### Gates\n",
    "circuit.h(qr[0])\n",
    "circuit.cx(qr[0], qr[1])\n",
    "circuit.cx(qr[1], qr[2])\n",
    "\n",
    "\n",
    "circuit.draw()"
   ]
  },
  {
   "cell_type": "code",
   "execution_count": 6,
   "metadata": {
    "deletable": false,
    "editable": false,
    "nbgrader": {
     "grade": true,
     "grade_id": "exercise2",
     "locked": true,
     "points": "2",
     "solution": false
    }
   },
   "outputs": [],
   "source": [
    "amplitudes = get_amplitudes(circuit)\n",
    "assert np.allclose(amplitudes, np.array([1/np.sqrt(2), 0, 0, 0, 0, 0, 0, 1/np.sqrt(2)]))"
   ]
  },
  {
   "cell_type": "markdown",
   "metadata": {},
   "source": [
    "**Exercise 3** (1 point). This state is entangled and exhibits very strong correlations between the qubits. To see this, add a measurement on each qubit. We'll run the circuit a hundred times and study the statistics."
   ]
  },
  {
   "cell_type": "code",
   "execution_count": 7,
   "metadata": {},
   "outputs": [
    {
     "name": "stdout",
     "output_type": "stream",
     "text": [
      "{'000': 47, '111': 53}\n"
     ]
    },
    {
     "data": {
      "text/html": [
       "<pre style=\"word-wrap: normal;white-space: pre;background: #fff0;line-height: 1.1;font-family: &quot;Courier New&quot;,Courier,monospace\">       ┌───┐          ┌─┐      \n",
       "q17_0: ┤ H ├──■───────┤M├──────\n",
       "       └───┘┌─┴─┐     └╥┘┌─┐   \n",
       "q17_1: ─────┤ X ├──■───╫─┤M├───\n",
       "            └───┘┌─┴─┐ ║ └╥┘┌─┐\n",
       "q17_2: ──────────┤ X ├─╫──╫─┤M├\n",
       "                 └───┘ ║  ║ └╥┘\n",
       " c0: 3/════════════════╩══╩══╩═\n",
       "                       0  1  2 </pre>"
      ],
      "text/plain": [
       "       ┌───┐          ┌─┐      \n",
       "q17_0: ┤ H ├──■───────┤M├──────\n",
       "       └───┘┌─┴─┐     └╥┘┌─┐   \n",
       "q17_1: ─────┤ X ├──■───╫─┤M├───\n",
       "            └───┘┌─┴─┐ ║ └╥┘┌─┐\n",
       "q17_2: ──────────┤ X ├─╫──╫─┤M├\n",
       "                 └───┘ ║  ║ └╥┘\n",
       " c0: 3/════════════════╩══╩══╩═\n",
       "                       0  1  2 "
      ]
     },
     "execution_count": 7,
     "metadata": {},
     "output_type": "execute_result"
    }
   ],
   "source": [
    "###\n",
    "### YOUR CODE HERE\n",
    "###\n",
    "\n",
    "circuit.measure(0,0)\n",
    "circuit.measure(1,1)\n",
    "circuit.measure(2,2)\n",
    "\n",
    "print(get_counts(circuit))\n",
    "\n",
    "circuit.draw()"
   ]
  },
  {
   "cell_type": "code",
   "execution_count": 8,
   "metadata": {
    "deletable": false,
    "editable": false,
    "nbgrader": {
     "grade": true,
     "grade_id": "exercise3",
     "locked": true,
     "points": "1",
     "solution": false
    }
   },
   "outputs": [],
   "source": [
    "counts = get_counts(circuit)\n",
    "assert abs(counts['000']/100-.5) < 0.1\n",
    "assert abs(counts['111']/100-.5) < 0.1\n",
    "assert  counts['000'] + counts['111'] == 100"
   ]
  },
  {
   "cell_type": "markdown",
   "metadata": {},
   "source": [
    "The measurement statistics show that if any of the qubits measured gives 0, so do the other two. If a qubit is measured 1, then the other two will be 1 as well."
   ]
  }
 ],
 "metadata": {
  "kernelspec": {
   "display_name": "Python 3",
   "language": "python",
   "name": "python3"
  },
  "language_info": {
   "codemirror_mode": {
    "name": "ipython",
    "version": 3
   },
   "file_extension": ".py",
   "mimetype": "text/x-python",
   "name": "python",
   "nbconvert_exporter": "python",
   "pygments_lexer": "ipython3",
   "version": "3.8.8"
  },
  "varInspector": {
   "cols": {
    "lenName": 16,
    "lenType": 16,
    "lenVar": 40
   },
   "kernels_config": {
    "python": {
     "delete_cmd_postfix": "",
     "delete_cmd_prefix": "del ",
     "library": "var_list.py",
     "varRefreshCmd": "print(var_dic_list())"
    },
    "r": {
     "delete_cmd_postfix": ") ",
     "delete_cmd_prefix": "rm(",
     "library": "var_list.r",
     "varRefreshCmd": "cat(var_dic_list()) "
    }
   },
   "types_to_exclude": [
    "module",
    "function",
    "builtin_function_or_method",
    "instance",
    "_Feature"
   ],
   "window_display": false
  }
 },
 "nbformat": 4,
 "nbformat_minor": 2
}
