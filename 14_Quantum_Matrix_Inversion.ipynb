{
 "cells": [
  {
   "cell_type": "markdown",
   "metadata": {},
   "source": [
    "Before you begin, execute this cell to import numpy and packages from the D-Wave Ocean suite, and all necessary functions for the gate-model framework you are going to use, whether that is the Forest SDK or Qiskit. In the case of Forest SDK, it also starts the qvm and quilc servers."
   ]
  },
  {
   "cell_type": "code",
   "execution_count": 1,
   "metadata": {},
   "outputs": [
    {
     "name": "stderr",
     "output_type": "stream",
     "text": [
      "/Users/gianlucafugante/anaconda3/lib/python3.8/site-packages/qiskit/aqua/__init__.py:86: DeprecationWarning: The package qiskit.aqua is deprecated. It was moved/refactored to qiskit-terra For more information see <https://github.com/Qiskit/qiskit-aqua/blob/main/README.md#migration-guide>\n",
      "  warn_package('aqua', 'qiskit-terra')\n"
     ]
    },
    {
     "name": "stdout",
     "output_type": "stream",
     "text": [
      "Available frameworks:\n",
      "Qiskit\n",
      "D-Wave Ocean\n"
     ]
    }
   ],
   "source": [
    "%run -i \"assignment_helper.py\"\n",
    "%matplotlib inline"
   ]
  },
  {
   "cell_type": "markdown",
   "metadata": {},
   "source": [
    "**Exercise 1** (1 point). We want to solve the equation $Ax=b$ with $A = \\begin{bmatrix}1 & 0 \\\\0 & -1 \\\\ \\end{bmatrix}$ and $b =\\begin{bmatrix} 0 \\\\ 1 \\\\ \\end{bmatrix}$ with quantum matrix inversion. We will encode $A$ in the unitary matrix $U=e^{iAt_0}$ with $t_0=\\pi/2$, and $b$ in a register. With the ancilla (qubit 0), the eigenvalue registers (or the ancilla qubits of phase estimation, qubits 1 and 2), and the eigenstate, you will need a total of four qubits and one classical register for post-selection. Prepare the superposition in the eigenvalue register and the vector $b$. Place your solution in an object called `hhl`."
   ]
  },
  {
   "cell_type": "code",
   "execution_count": 40,
   "metadata": {},
   "outputs": [
    {
     "data": {
      "text/html": [
       "<pre style=\"word-wrap: normal;white-space: pre;background: #fff0;line-height: 1.1;font-family: &quot;Courier New&quot;,Courier,monospace\">             \n",
       "q271_0: ─────\n",
       "        ┌───┐\n",
       "q271_1: ┤ H ├\n",
       "        ├───┤\n",
       "q271_2: ┤ H ├\n",
       "        ├───┤\n",
       "q271_3: ┤ X ├\n",
       "        └───┘\n",
       "  c5: 4/═════\n",
       "             </pre>"
      ],
      "text/plain": [
       "             \n",
       "q271_0: ─────\n",
       "        ┌───┐\n",
       "q271_1: ┤ H ├\n",
       "        ├───┤\n",
       "q271_2: ┤ H ├\n",
       "        ├───┤\n",
       "q271_3: ┤ X ├\n",
       "        └───┘\n",
       "  c5: 4/═════\n",
       "             "
      ]
     },
     "execution_count": 40,
     "metadata": {},
     "output_type": "execute_result"
    }
   ],
   "source": [
    "###\n",
    "### YOUR CODE HERE\n",
    "###\n",
    "\n",
    "qr = QuantumRegister(4)\n",
    "cr = ClassicalRegister(4)\n",
    "\n",
    "hhl = QuantumCircuit(qr, cr)\n",
    "\n",
    "hhl.h(qr[1])\n",
    "hhl.h(qr[2])\n",
    "hhl.x(qr[3])\n",
    "\n",
    "hhl.draw()\n"
   ]
  },
  {
   "cell_type": "code",
   "execution_count": 41,
   "metadata": {
    "deletable": false,
    "editable": false,
    "nbgrader": {
     "grade": true,
     "grade_id": "exercise1",
     "locked": true,
     "points": "1",
     "solution": false
    }
   },
   "outputs": [],
   "source": [
    "amplitudes = get_amplitudes(hhl)\n",
    "assert np.allclose(amplitudes, np.array([0. +0.j, 0. +0.j, 0. +0.j, 0. +0.j, 0. +0.j, 0. +0.j, 0. +0.j,\n",
    "       0. +0.j, 0.5+0.j, 0. +0.j, 0.5+0.j, 0. +0.j, 0.5+0.j, 0. +0.j, 0.5+0.j, 0. +0.j]))"
   ]
  },
  {
   "cell_type": "markdown",
   "metadata": {},
   "source": [
    "**Exercise 2** (2 points). Start the quantum phase estimation by applying $C-U^{2^0}$ and $C-U^{2^1}$. Extend the circuit with the two appropriate gates."
   ]
  },
  {
   "cell_type": "code",
   "execution_count": 42,
   "metadata": {
    "ExecuteTime": {
     "end_time": "2019-01-31T15:46:05.496117Z",
     "start_time": "2019-01-31T15:46:05.463504Z"
    }
   },
   "outputs": [
    {
     "data": {
      "text/html": [
       "<pre style=\"word-wrap: normal;white-space: pre;background: #fff0;line-height: 1.1;font-family: &quot;Courier New&quot;,Courier,monospace\">                              \n",
       "q271_0: ──────────────────────\n",
       "        ┌───┐                 \n",
       "q271_1: ┤ H ├─■───────────────\n",
       "        ├───┤ │               \n",
       "q271_2: ┤ H ├─┼────────■──────\n",
       "        ├───┤ │U1(2π)  │U1(π) \n",
       "q271_3: ┤ X ├─■────────■──────\n",
       "        └───┘                 \n",
       "  c5: 4/══════════════════════\n",
       "                              </pre>"
      ],
      "text/plain": [
       "                              \n",
       "q271_0: ──────────────────────\n",
       "        ┌───┐                 \n",
       "q271_1: ┤ H ├─■───────────────\n",
       "        ├───┤ │               \n",
       "q271_2: ┤ H ├─┼────────■──────\n",
       "        ├───┤ │U1(2π)  │U1(π) \n",
       "q271_3: ┤ X ├─■────────■──────\n",
       "        └───┘                 \n",
       "  c5: 4/══════════════════════\n",
       "                              "
      ]
     },
     "execution_count": 42,
     "metadata": {},
     "output_type": "execute_result"
    }
   ],
   "source": [
    "###\n",
    "### YOUR CODE HERE\n",
    "###\n",
    "\n",
    "hhl.cu1(2*np.pi, qr[1], qr[3])\n",
    "hhl.cu1(np.pi, qr[2], qr[3])\n",
    "\n",
    "hhl.draw()"
   ]
  },
  {
   "cell_type": "code",
   "execution_count": 43,
   "metadata": {
    "deletable": false,
    "editable": false,
    "nbgrader": {
     "grade": true,
     "grade_id": "exercise2",
     "locked": true,
     "points": "2",
     "solution": false
    }
   },
   "outputs": [],
   "source": [
    "amplitudes = get_amplitudes(hhl)\n",
    "assert np.allclose(amplitudes, np.array([ 0. +0.j,  0. +0.j,  0. +0.j,  0. +0.j,  0. +0.j,  0. +0.j,\n",
    "                                          0. +0.j,  0. +0.j,  0.5+0.j,  0. +0.j,  0.5+0.j,  0. +0.j,\n",
    "                                         -0.5+0.j,  0. +0.j, -0.5+0.j,  0. +0.j]))"
   ]
  },
  {
   "cell_type": "markdown",
   "metadata": {},
   "source": [
    "**Exercise 3** (1 point). Apply the quantum inverse Fourier transformation. Don't forget the swap just before the transformation."
   ]
  },
  {
   "cell_type": "code",
   "execution_count": 44,
   "metadata": {
    "ExecuteTime": {
     "end_time": "2019-01-31T15:46:05.500661Z",
     "start_time": "2019-01-31T15:46:05.497677Z"
    }
   },
   "outputs": [
    {
     "data": {
      "text/html": [
       "<pre style=\"word-wrap: normal;white-space: pre;background: #fff0;line-height: 1.1;font-family: &quot;Courier New&quot;,Courier,monospace\">                                                      \n",
       "q271_0: ──────────────────────────────────────────────\n",
       "        ┌───┐                                    ┌───┐\n",
       "q271_1: ┤ H ├─■────────────────X───────■─────────┤ H ├\n",
       "        ├───┤ │                │ ┌───┐ │U1(-π/2) └───┘\n",
       "q271_2: ┤ H ├─┼────────■───────X─┤ H ├─■──────────────\n",
       "        ├───┤ │U1(2π)  │U1(π)    └───┘                \n",
       "q271_3: ┤ X ├─■────────■──────────────────────────────\n",
       "        └───┘                                         \n",
       "  c5: 4/══════════════════════════════════════════════\n",
       "                                                      </pre>"
      ],
      "text/plain": [
       "                                                      \n",
       "q271_0: ──────────────────────────────────────────────\n",
       "        ┌───┐                                    ┌───┐\n",
       "q271_1: ┤ H ├─■────────────────X───────■─────────┤ H ├\n",
       "        ├───┤ │                │ ┌───┐ │U1(-π/2) └───┘\n",
       "q271_2: ┤ H ├─┼────────■───────X─┤ H ├─■──────────────\n",
       "        ├───┤ │U1(2π)  │U1(π)    └───┘                \n",
       "q271_3: ┤ X ├─■────────■──────────────────────────────\n",
       "        └───┘                                         \n",
       "  c5: 4/══════════════════════════════════════════════\n",
       "                                                      "
      ]
     },
     "execution_count": 44,
     "metadata": {},
     "output_type": "execute_result"
    }
   ],
   "source": [
    "###\n",
    "### YOUR CODE HERE\n",
    "###\n",
    "\n",
    "hhl.swap(qr[1], qr[2])\n",
    "hhl.h(qr[2])\n",
    "hhl.cu1(-np.pi / 2, qr[1], qr[2])\n",
    "hhl.h(qr[1])\n",
    "\n",
    "hhl.draw()"
   ]
  },
  {
   "cell_type": "code",
   "execution_count": 45,
   "metadata": {
    "deletable": false,
    "editable": false,
    "nbgrader": {
     "grade": true,
     "grade_id": "exercise3",
     "locked": true,
     "points": "1",
     "solution": false
    }
   },
   "outputs": [],
   "source": [
    "amplitudes = get_amplitudes(hhl)\n",
    "assert np.allclose(amplitudes, np.array([0.+0.j, 0.+0.j, 0.+0.j, 0.+0.j, 0.+0.j, 0.+0.j, 0.+0.j, 0.+0.j,\n",
    "                                         0.+0.j, 0.+0.j, 1.+0.j, 0.+0.j, 0.+0.j, 0.+0.j, 0.+0.j, 0.+0.j]))"
   ]
  },
  {
   "cell_type": "markdown",
   "metadata": {},
   "source": [
    "**Exercise 4** (1 point). After this step, swap the eigenvalue registers again (this time to perform the inversion) and apply the controlled rotation. Use the same angle as in the lecture notebook."
   ]
  },
  {
   "cell_type": "code",
   "execution_count": 46,
   "metadata": {
    "ExecuteTime": {
     "end_time": "2019-01-31T15:46:05.508179Z",
     "start_time": "2019-01-31T15:46:05.502279Z"
    }
   },
   "outputs": [
    {
     "data": {
      "text/html": [
       "<pre style=\"word-wrap: normal;white-space: pre;background: #fff0;line-height: 1.1;font-family: &quot;Courier New&quot;,Courier,monospace\">                                                         ┌──────────────┐»\n",
       "q271_0: ─────────────────────────────────────────────────┤ U3(1π/8,0,0) ├»\n",
       "        ┌───┐                                    ┌───┐   └──────┬───────┘»\n",
       "q271_1: ┤ H ├─■────────────────X───────■─────────┤ H ├─X────────■────────»\n",
       "        ├───┤ │                │ ┌───┐ │U1(-π/2) └───┘ │                 »\n",
       "q271_2: ┤ H ├─┼────────■───────X─┤ H ├─■───────────────X─────────────────»\n",
       "        ├───┤ │U1(2π)  │U1(π)    └───┘                                   »\n",
       "q271_3: ┤ X ├─■────────■─────────────────────────────────────────────────»\n",
       "        └───┘                                                            »\n",
       "  c5: 4/═════════════════════════════════════════════════════════════════»\n",
       "                                                                         »\n",
       "«        ┌──────────────┐\n",
       "«q271_0: ┤ U3(π/16,0,0) ├\n",
       "«        └──────┬───────┘\n",
       "«q271_1: ───────┼────────\n",
       "«               │        \n",
       "«q271_2: ───────■────────\n",
       "«                        \n",
       "«q271_3: ────────────────\n",
       "«                        \n",
       "«  c5: 4/════════════════\n",
       "«                        </pre>"
      ],
      "text/plain": [
       "                                                         ┌──────────────┐»\n",
       "q271_0: ─────────────────────────────────────────────────┤ U3(1π/8,0,0) ├»\n",
       "        ┌───┐                                    ┌───┐   └──────┬───────┘»\n",
       "q271_1: ┤ H ├─■────────────────X───────■─────────┤ H ├─X────────■────────»\n",
       "        ├───┤ │                │ ┌───┐ │U1(-π/2) └───┘ │                 »\n",
       "q271_2: ┤ H ├─┼────────■───────X─┤ H ├─■───────────────X─────────────────»\n",
       "        ├───┤ │U1(2π)  │U1(π)    └───┘                                   »\n",
       "q271_3: ┤ X ├─■────────■─────────────────────────────────────────────────»\n",
       "        └───┘                                                            »\n",
       "  c5: 4/═════════════════════════════════════════════════════════════════»\n",
       "                                                                         »\n",
       "«        ┌──────────────┐\n",
       "«q271_0: ┤ U3(π/16,0,0) ├\n",
       "«        └──────┬───────┘\n",
       "«q271_1: ───────┼────────\n",
       "«               │        \n",
       "«q271_2: ───────■────────\n",
       "«                        \n",
       "«q271_3: ────────────────\n",
       "«                        \n",
       "«  c5: 4/════════════════\n",
       "«                        "
      ]
     },
     "execution_count": 46,
     "metadata": {},
     "output_type": "execute_result"
    }
   ],
   "source": [
    "###\n",
    "### YOUR CODE HERE\n",
    "###\n",
    "\n",
    "theta_0 = 0.392699\n",
    "theta_1 = 0.19634955\n",
    "\n",
    "hhl.swap(qr[1], qr[2])\n",
    "hhl.cu3(theta_0, 0, 0, qr[1], qr[0])  # CRY0\n",
    "hhl.cu3(theta_1, 0, 0, qr[2], qr[0]);  # CRY1\n",
    "\n",
    "hhl.draw()"
   ]
  },
  {
   "cell_type": "code",
   "execution_count": 47,
   "metadata": {
    "deletable": false,
    "editable": false,
    "nbgrader": {
     "grade": true,
     "grade_id": "exercise4",
     "locked": true,
     "points": "1",
     "solution": false
    }
   },
   "outputs": [],
   "source": [
    "amplitudes = get_amplitudes(hhl)\n",
    "assert np.allclose(amplitudes, np.array([0.        +0.j, 0.        +0.j, 0.        +0.j, 0.        +0.j,\n",
    "                                         0.        +0.j, 0.        +0.j, 0.        +0.j, 0.        +0.j,\n",
    "                                         0.        +0.j, 0.        +0.j, 0.        +0.j, 0.        +0.j,\n",
    "                                         0.99518473+0.j, 0.09801714+0.j, 0.        +0.j, 0.        +0.j]))"
   ]
  },
  {
   "cell_type": "markdown",
   "metadata": {},
   "source": [
    "**Exercise 5** (2 points). Uncompute the eigenvalue register"
   ]
  },
  {
   "cell_type": "code",
   "execution_count": 48,
   "metadata": {},
   "outputs": [
    {
     "data": {
      "text/html": [
       "<pre style=\"word-wrap: normal;white-space: pre;background: #fff0;line-height: 1.1;font-family: &quot;Courier New&quot;,Courier,monospace\">                                                         ┌──────────────┐»\n",
       "q271_0: ─────────────────────────────────────────────────┤ U3(1π/8,0,0) ├»\n",
       "        ┌───┐                                    ┌───┐   └──────┬───────┘»\n",
       "q271_1: ┤ H ├─■────────────────X───────■─────────┤ H ├─X────────■────────»\n",
       "        ├───┤ │                │ ┌───┐ │U1(-π/2) └───┘ │                 »\n",
       "q271_2: ┤ H ├─┼────────■───────X─┤ H ├─■───────────────X─────────────────»\n",
       "        ├───┤ │U1(2π)  │U1(π)    └───┘                                   »\n",
       "q271_3: ┤ X ├─■────────■─────────────────────────────────────────────────»\n",
       "        └───┘                                                            »\n",
       "  c5: 4/═════════════════════════════════════════════════════════════════»\n",
       "                                                                         »\n",
       "«        ┌──────────────┐                                    \n",
       "«q271_0: ┤ U3(π/16,0,0) ├────────────────────────────────────\n",
       "«        └──────┬───────┘   ┌───┐                  ┌───┐     \n",
       "«q271_1: ───────┼─────────X─┤ H ├─■──────────────X─┤ H ├─────\n",
       "«               │         │ └───┘ │U1(π/2) ┌───┐ │ └───┘┌───┐\n",
       "«q271_2: ───────■─────────X───────■────────┤ H ├─X───■──┤ H ├\n",
       "«                                          └───┘     │  └───┘\n",
       "«q271_3: ────────────────────────────────────────────■───────\n",
       "«                                                            \n",
       "«  c5: 4/════════════════════════════════════════════════════\n",
       "«                                                            </pre>"
      ],
      "text/plain": [
       "                                                         ┌──────────────┐»\n",
       "q271_0: ─────────────────────────────────────────────────┤ U3(1π/8,0,0) ├»\n",
       "        ┌───┐                                    ┌───┐   └──────┬───────┘»\n",
       "q271_1: ┤ H ├─■────────────────X───────■─────────┤ H ├─X────────■────────»\n",
       "        ├───┤ │                │ ┌───┐ │U1(-π/2) └───┘ │                 »\n",
       "q271_2: ┤ H ├─┼────────■───────X─┤ H ├─■───────────────X─────────────────»\n",
       "        ├───┤ │U1(2π)  │U1(π)    └───┘                                   »\n",
       "q271_3: ┤ X ├─■────────■─────────────────────────────────────────────────»\n",
       "        └───┘                                                            »\n",
       "  c5: 4/═════════════════════════════════════════════════════════════════»\n",
       "                                                                         »\n",
       "«        ┌──────────────┐                                    \n",
       "«q271_0: ┤ U3(π/16,0,0) ├────────────────────────────────────\n",
       "«        └──────┬───────┘   ┌───┐                  ┌───┐     \n",
       "«q271_1: ───────┼─────────X─┤ H ├─■──────────────X─┤ H ├─────\n",
       "«               │         │ └───┘ │U1(π/2) ┌───┐ │ └───┘┌───┐\n",
       "«q271_2: ───────■─────────X───────■────────┤ H ├─X───■──┤ H ├\n",
       "«                                          └───┘     │  └───┘\n",
       "«q271_3: ────────────────────────────────────────────■───────\n",
       "«                                                            \n",
       "«  c5: 4/════════════════════════════════════════════════════\n",
       "«                                                            "
      ]
     },
     "execution_count": 48,
     "metadata": {},
     "output_type": "execute_result"
    }
   ],
   "source": [
    "###\n",
    "### YOUR CODE HERE\n",
    "###\n",
    "hhl.swap(qr[1], qr[2])\n",
    "hhl.h(qr[1])\n",
    "hhl.cu1(np.pi / 2, qr[1], qr[2])\n",
    "hhl.h(qr[2])\n",
    "hhl.swap(qr[1], qr[2])\n",
    "hhl.cz(qr[2], qr[3])\n",
    "hhl.h(qr[1])\n",
    "hhl.h(qr[2])\n",
    "\n",
    "hhl.draw()"
   ]
  },
  {
   "cell_type": "code",
   "execution_count": 49,
   "metadata": {},
   "outputs": [
    {
     "data": {
      "text/plain": [
       "array([ 0.00000000e+00+0.00000000e+00j,  0.00000000e+00+0.00000000e+00j,\n",
       "        0.00000000e+00+0.00000000e+00j,  0.00000000e+00+0.00000000e+00j,\n",
       "        0.00000000e+00+0.00000000e+00j,  0.00000000e+00+0.00000000e+00j,\n",
       "        0.00000000e+00+0.00000000e+00j,  0.00000000e+00+0.00000000e+00j,\n",
       "        1.99673462e-16+1.22464680e-16j,  0.00000000e+00+0.00000000e+00j,\n",
       "       -9.00836673e-17+1.06030098e-16j, -1.79187517e-17+2.10906933e-17j,\n",
       "        9.95184726e-01-3.04687447e-16j,  9.80171449e-02-3.00090957e-17j,\n",
       "        8.78935449e-17+7.23348051e-17j,  2.66622119e-17+2.19425204e-17j])"
      ]
     },
     "execution_count": 49,
     "metadata": {},
     "output_type": "execute_result"
    }
   ],
   "source": [
    "amplitudes"
   ]
  },
  {
   "cell_type": "code",
   "execution_count": 50,
   "metadata": {
    "deletable": false,
    "editable": false,
    "nbgrader": {
     "grade": true,
     "grade_id": "exercise5",
     "locked": true,
     "points": "2",
     "solution": false
    }
   },
   "outputs": [],
   "source": [
    "amplitudes = get_amplitudes(hhl)\n",
    "assert np.allclose(amplitudes, np.array([0.        +0.j, 0.        +0.j, 0.        +0.j, 0.        +0.j,\n",
    "                                         0.        +0.j, 0.        +0.j, 0.        +0.j, 0.        +0.j,\n",
    "                                         0.99518473+0.j, 0.09801714+0.j, 0.        +0.j, 0.        +0.j,\n",
    "                                         0.        +0.j, 0.        +0.j, 0.        +0.j, 0.        +0.j]))"
   ]
  },
  {
   "cell_type": "markdown",
   "metadata": {},
   "source": [
    "At this point, if we measure 1 in the ancilla (qubit 0), the state will be proportional to $A^{-1}b = \\sum_j \\beta_j\\lambda_j^{-1}\\left|u_j\\right\\rangle=0 \\frac{1}{1} |0\\rangle + 1 \\frac{1}{-1} |1\\rangle=-|1\\rangle$."
   ]
  },
  {
   "cell_type": "code",
   "execution_count": 51,
   "metadata": {},
   "outputs": [
    {
     "name": "stdout",
     "output_type": "stream",
     "text": [
      "{'1000': 100}\n"
     ]
    }
   ],
   "source": [
    "hhl.measure(qr, cr)\n",
    "\n",
    "backend = qiskit.BasicAer.get_backend('qasm_simulator') # the device to run on\n",
    "result = execute(hhl, backend, shots=100).result()\n",
    "counts  = result.get_counts(hhl)\n",
    "print(counts)"
   ]
  },
  {
   "cell_type": "code",
   "execution_count": null,
   "metadata": {},
   "outputs": [],
   "source": []
  }
 ],
 "metadata": {
  "kernelspec": {
   "display_name": "Python 3",
   "language": "python",
   "name": "python3"
  },
  "language_info": {
   "codemirror_mode": {
    "name": "ipython",
    "version": 3
   },
   "file_extension": ".py",
   "mimetype": "text/x-python",
   "name": "python",
   "nbconvert_exporter": "python",
   "pygments_lexer": "ipython3",
   "version": "3.8.8"
  },
  "varInspector": {
   "cols": {
    "lenName": 16,
    "lenType": 16,
    "lenVar": 40
   },
   "kernels_config": {
    "python": {
     "delete_cmd_postfix": "",
     "delete_cmd_prefix": "del ",
     "library": "var_list.py",
     "varRefreshCmd": "print(var_dic_list())"
    },
    "r": {
     "delete_cmd_postfix": ") ",
     "delete_cmd_prefix": "rm(",
     "library": "var_list.r",
     "varRefreshCmd": "cat(var_dic_list()) "
    }
   },
   "types_to_exclude": [
    "module",
    "function",
    "builtin_function_or_method",
    "instance",
    "_Feature"
   ],
   "window_display": false
  }
 },
 "nbformat": 4,
 "nbformat_minor": 2
}
